{
  "nbformat": 4,
  "nbformat_minor": 0,
  "metadata": {
    "colab": {
      "name": "Untitled0.ipynb",
      "provenance": [],
      "authorship_tag": "ABX9TyOEmX0ogbRBg7WT5b7INZng",
      "include_colab_link": true
    },
    "kernelspec": {
      "name": "python3",
      "display_name": "Python 3"
    },
    "language_info": {
      "name": "python"
    }
  },
  "cells": [
    {
      "cell_type": "markdown",
      "metadata": {
        "id": "view-in-github",
        "colab_type": "text"
      },
      "source": [
        "<a href=\"https://colab.research.google.com/github/RamyathaMalluvalasa/Basic-Ml/blob/main/Untitled0.ipynb\" target=\"_parent\"><img src=\"https://colab.research.google.com/assets/colab-badge.svg\" alt=\"Open In Colab\"/></a>"
      ]
    },
    {
      "cell_type": "markdown",
      "metadata": {
        "id": "sF-6fwBY4vdH"
      },
      "source": [
        "python program for checking if given year  is leap year or not"
      ]
    },
    {
      "cell_type": "code",
      "metadata": {
        "colab": {
          "base_uri": "https://localhost:8080/"
        },
        "id": "gQ5crn4z5OgP",
        "outputId": "c607f882-2c6b-44f8-fec0-2a04a5262eed"
      },
      "source": [
        "print(\"enter the year\")\n",
        "a= int(input())\n",
        "if (a%4==0 and a%100!=0) or (a%400==0):\n",
        "  print(\"given year is leap year\")\n",
        "else:\n",
        "  print(\"given year if not a leap year\")"
      ],
      "execution_count": null,
      "outputs": [
        {
          "output_type": "stream",
          "text": [
            "enter the year\n",
            "2014\n",
            "given year if not a leap year\n"
          ],
          "name": "stdout"
        }
      ]
    },
    {
      "cell_type": "markdown",
      "metadata": {
        "id": "XrzF7h0X-P4L"
      },
      "source": [
        "python program for checking given program is positive or not"
      ]
    },
    {
      "cell_type": "code",
      "metadata": {
        "colab": {
          "base_uri": "https://localhost:8080/"
        },
        "id": "Gyuw4leJ-b_K",
        "outputId": "d85e5e74-1821-4aca-fdfa-f1354c0ed4bc"
      },
      "source": [
        "x=int(input())\n",
        "if x>=0:\n",
        "  print(\"given number is positive\")\n",
        "else:\n",
        "  print(\"given number is negitive\")"
      ],
      "execution_count": null,
      "outputs": [
        {
          "output_type": "stream",
          "text": [
            "7\n",
            "given number is positive\n"
          ],
          "name": "stdout"
        }
      ]
    },
    {
      "cell_type": "markdown",
      "metadata": {
        "id": "SriXlDtV-foa"
      },
      "source": [
        "python program to print sum of cubes upto given n number that means if we give a number n it will print 1^3+2^3+....n^3"
      ]
    },
    {
      "cell_type": "code",
      "metadata": {
        "colab": {
          "base_uri": "https://localhost:8080/"
        },
        "id": "8nch302_-lOK",
        "outputId": "fb96f89d-f38c-4d25-c788-22c8405f581b"
      },
      "source": [
        "n=int(input())\n",
        "s=0\n",
        "for i in range(0,n+1):\n",
        "  s+=i**3\n",
        "print(s)"
      ],
      "execution_count": null,
      "outputs": [
        {
          "output_type": "stream",
          "text": [
            "6\n",
            "441\n"
          ],
          "name": "stdout"
        }
      ]
    },
    {
      "cell_type": "markdown",
      "metadata": {
        "id": "LUg_GE_r-rqy"
      },
      "source": [
        "python program for adding factorials from 1 to n numbers, n is input and program will give 1!+2!+3!....n! as output"
      ]
    },
    {
      "cell_type": "code",
      "metadata": {
        "colab": {
          "base_uri": "https://localhost:8080/"
        },
        "id": "gNAifHUq-x8z",
        "outputId": "fd62beb7-7db2-40e2-ccb0-0c2bd89817af"
      },
      "source": [
        "print(\"enter a number\")\n",
        "n=int(input())\n",
        "fact=1\n",
        "summ=0\n",
        "for i in range(1,n+1):\n",
        "  fact*=i\n",
        "  summ+=fact\n",
        "print(\"sum of the factorials =\",summ)"
      ],
      "execution_count": null,
      "outputs": [
        {
          "output_type": "stream",
          "text": [
            "enter a number\n",
            "7\n",
            "sum of the factorials = 5913\n"
          ],
          "name": "stdout"
        }
      ]
    },
    {
      "cell_type": "markdown",
      "metadata": {
        "id": "th4OjJK2-29y"
      },
      "source": [
        "python program to print second highest odd number in the given list of numbers if the input is 1 6 3 7 8 4 then the output is 3"
      ]
    },
    {
      "cell_type": "code",
      "metadata": {
        "colab": {
          "base_uri": "https://localhost:8080/"
        },
        "id": "BhzYHkk2-6Ky",
        "outputId": "64905600-6fbb-4bd5-9f14-056a5a9c0e59"
      },
      "source": [
        "l=[int(x) for x in input().split()]\n",
        "k = sorted(filter(lambda x : x%2==1,l))\n",
        "if len(k)>1:\n",
        "  print(k[1])\n",
        "else:\n",
        "  print(\"no solution\")"
      ],
      "execution_count": null,
      "outputs": [
        {
          "output_type": "stream",
          "text": [
            "1 3 7 5 9 0 4\n",
            "3\n"
          ],
          "name": "stdout"
        }
      ]
    }
  ]
}